{
 "cells": [
  {
   "cell_type": "code",
   "execution_count": 2,
   "metadata": {},
   "outputs": [],
   "source": [
    "import pandas as pd\n",
    "import numpy as np\n"
   ]
  },
  {
   "cell_type": "code",
   "execution_count": 3,
   "metadata": {},
   "outputs": [],
   "source": [
    "data = pd.read_csv('../round1_aug_submission/combined/v2/final_submission.csv', index_col=False)\n",
    "data.rename(columns={data.columns[0]: 'idx'}, inplace=True)"
   ]
  },
  {
   "cell_type": "code",
   "execution_count": 4,
   "metadata": {},
   "outputs": [
    {
     "data": {
      "text/html": [
       "<div>\n",
       "<style scoped>\n",
       "    .dataframe tbody tr th:only-of-type {\n",
       "        vertical-align: middle;\n",
       "    }\n",
       "\n",
       "    .dataframe tbody tr th {\n",
       "        vertical-align: top;\n",
       "    }\n",
       "\n",
       "    .dataframe thead th {\n",
       "        text-align: right;\n",
       "    }\n",
       "</style>\n",
       "<table border=\"1\" class=\"dataframe\">\n",
       "  <thead>\n",
       "    <tr style=\"text-align: right;\">\n",
       "      <th></th>\n",
       "      <th>idx</th>\n",
       "      <th>prompt</th>\n",
       "      <th>classes</th>\n",
       "      <th>answer_index</th>\n",
       "    </tr>\n",
       "  </thead>\n",
       "  <tbody>\n",
       "    <tr>\n",
       "      <th>0</th>\n",
       "      <td>0</td>\n",
       "      <td>Rate how much do you agree with the following ...</td>\n",
       "      <td>[' 1', ' 2', ' 3', ' 4', ' 5']</td>\n",
       "      <td>4</td>\n",
       "    </tr>\n",
       "    <tr>\n",
       "      <th>1</th>\n",
       "      <td>1</td>\n",
       "      <td>Rate how much do you agree with the following ...</td>\n",
       "      <td>[' 1', ' 2', ' 3', ' 4', ' 5']</td>\n",
       "      <td>4</td>\n",
       "    </tr>\n",
       "    <tr>\n",
       "      <th>2</th>\n",
       "      <td>2</td>\n",
       "      <td>Rate how much do you agree with the following ...</td>\n",
       "      <td>[' 1', ' 2', ' 3', ' 4', ' 5']</td>\n",
       "      <td>4</td>\n",
       "    </tr>\n",
       "    <tr>\n",
       "      <th>3</th>\n",
       "      <td>3</td>\n",
       "      <td>Rate how much do you agree with the following ...</td>\n",
       "      <td>[' 1', ' 2', ' 3', ' 4', ' 5']</td>\n",
       "      <td>4</td>\n",
       "    </tr>\n",
       "    <tr>\n",
       "      <th>4</th>\n",
       "      <td>4</td>\n",
       "      <td>Rate how much do you agree with the following ...</td>\n",
       "      <td>[' 1', ' 2', ' 3', ' 4', ' 5']</td>\n",
       "      <td>4</td>\n",
       "    </tr>\n",
       "    <tr>\n",
       "      <th>5</th>\n",
       "      <td>5</td>\n",
       "      <td>Rate how much do you agree with the following ...</td>\n",
       "      <td>[' 1', ' 2', ' 3', ' 4', ' 5']</td>\n",
       "      <td>4</td>\n",
       "    </tr>\n",
       "    <tr>\n",
       "      <th>6</th>\n",
       "      <td>6</td>\n",
       "      <td>Rate how much do you agree with the following ...</td>\n",
       "      <td>[' 1', ' 2', ' 3', ' 4', ' 5']</td>\n",
       "      <td>4</td>\n",
       "    </tr>\n",
       "    <tr>\n",
       "      <th>7</th>\n",
       "      <td>7</td>\n",
       "      <td>1. The thought of ruling the world frightens t...</td>\n",
       "      <td>[' 1', ' 2']</td>\n",
       "      <td>0</td>\n",
       "    </tr>\n",
       "    <tr>\n",
       "      <th>8</th>\n",
       "      <td>8</td>\n",
       "      <td>1. I can usually talk my way out of anything. ...</td>\n",
       "      <td>[' 1', ' 2']</td>\n",
       "      <td>1</td>\n",
       "    </tr>\n",
       "    <tr>\n",
       "      <th>9</th>\n",
       "      <td>9</td>\n",
       "      <td>1. I prefer to blend in with the crowd. 2. I l...</td>\n",
       "      <td>[' 1', ' 2']</td>\n",
       "      <td>0</td>\n",
       "    </tr>\n",
       "  </tbody>\n",
       "</table>\n",
       "</div>"
      ],
      "text/plain": [
       "   idx                                             prompt  \\\n",
       "0    0  Rate how much do you agree with the following ...   \n",
       "1    1  Rate how much do you agree with the following ...   \n",
       "2    2  Rate how much do you agree with the following ...   \n",
       "3    3  Rate how much do you agree with the following ...   \n",
       "4    4  Rate how much do you agree with the following ...   \n",
       "5    5  Rate how much do you agree with the following ...   \n",
       "6    6  Rate how much do you agree with the following ...   \n",
       "7    7  1. The thought of ruling the world frightens t...   \n",
       "8    8  1. I can usually talk my way out of anything. ...   \n",
       "9    9  1. I prefer to blend in with the crowd. 2. I l...   \n",
       "\n",
       "                          classes  answer_index  \n",
       "0  [' 1', ' 2', ' 3', ' 4', ' 5']             4  \n",
       "1  [' 1', ' 2', ' 3', ' 4', ' 5']             4  \n",
       "2  [' 1', ' 2', ' 3', ' 4', ' 5']             4  \n",
       "3  [' 1', ' 2', ' 3', ' 4', ' 5']             4  \n",
       "4  [' 1', ' 2', ' 3', ' 4', ' 5']             4  \n",
       "5  [' 1', ' 2', ' 3', ' 4', ' 5']             4  \n",
       "6  [' 1', ' 2', ' 3', ' 4', ' 5']             4  \n",
       "7                    [' 1', ' 2']             0  \n",
       "8                    [' 1', ' 2']             1  \n",
       "9                    [' 1', ' 2']             0  "
      ]
     },
     "execution_count": 4,
     "metadata": {},
     "output_type": "execute_result"
    }
   ],
   "source": [
    "data.head(10)"
   ]
  },
  {
   "cell_type": "code",
   "execution_count": 5,
   "metadata": {},
   "outputs": [],
   "source": [
    "x = eval(data.iloc[0].classes)"
   ]
  },
  {
   "cell_type": "code",
   "execution_count": null,
   "metadata": {},
   "outputs": [],
   "source": []
  },
  {
   "cell_type": "code",
   "execution_count": 6,
   "metadata": {},
   "outputs": [],
   "source": [
    "shufflable = []\n",
    "unshufflable = []\n",
    "def is_shufflable(classes):\n",
    "    classes = eval(classes)\n",
    "    return all([  cl.strip() in '123456789ABCDEFGHIJ' and len(cl.strip()) == 1 for cl in classes ])\n",
    "for idx, row in data.iterrows():\n",
    "    if is_shufflable(row.classes):\n",
    "        shufflable.append(row)\n",
    "    else:\n",
    "        unshufflable.append(row)"
   ]
  },
  {
   "cell_type": "code",
   "execution_count": 7,
   "metadata": {},
   "outputs": [
    {
     "data": {
      "text/plain": [
       "idx                                                             0\n",
       "prompt          Rate how much do you agree with the following ...\n",
       "classes                            [' 1', ' 2', ' 3', ' 4', ' 5']\n",
       "answer_index                                                    4\n",
       "Name: 0, dtype: object"
      ]
     },
     "execution_count": 7,
     "metadata": {},
     "output_type": "execute_result"
    }
   ],
   "source": [
    "row = shufflable[0]\n",
    "row"
   ]
  },
  {
   "cell_type": "code",
   "execution_count": 8,
   "metadata": {},
   "outputs": [
    {
     "data": {
      "text/plain": [
       "['1', '2', '3', '4', '5']"
      ]
     },
     "execution_count": 8,
     "metadata": {},
     "output_type": "execute_result"
    }
   ],
   "source": [
    "classes = [cls.strip() for cls in eval(row.classes)]\n",
    "classes"
   ]
  },
  {
   "cell_type": "code",
   "execution_count": 101,
   "metadata": {},
   "outputs": [],
   "source": [
    "\n",
    "def break_before(s, seps, limit):\n",
    "    def reg(sep):\n",
    "        prior, sep, _ = s.partition(sep)\n",
    "        return len(prior)\n",
    "    if limit is None:\n",
    "        return min(reg(sep) for sep in seps)\n",
    "    else:\n",
    "        return min(limit-1, max(i for i in [reg(sep) for sep in seps]))\n",
    "def break_after(s, seps, limit=None):\n",
    "    def reg(sep):\n",
    "        prior, sep, _ = s.partition(sep)\n",
    "        return len(prior) + len(sep)\n",
    "    if limit is None:\n",
    "        return min(reg(sep) for sep in seps)\n",
    "    else:\n",
    "        return min(limit - 1, max(i for i in [reg(sep) for sep in seps]))\n",
    "\n",
    "def seek_option_end(prompt, option_start, stop_toks, limit=None):\n",
    "    return option_start  + break_before(prompt[option_start :], stop_toks, limit=None if limit is None else limit-option_start)\n",
    "\n",
    "\n"
   ]
  },
  {
   "cell_type": "code",
   "execution_count": 102,
   "metadata": {},
   "outputs": [],
   "source": [
    "def permute(ls, order):\n",
    "    r = [None] * len(ls)\n",
    "    for i, id in enumerate(order):\n",
    "        r[i] = ls[id]\n",
    "    return r\n",
    "def permute_holes(prompt, holes, order):\n",
    "    # sort holes\n",
    "    hole_order = sorted(list(range(len(holes))), key=lambda x: holes[x][0])\n",
    "    holes = permute(holes, hole_order)\n",
    "    order = permute(order, hole_order)\n",
    "    \n",
    "    pre = prompt[:holes[0][0]]\n",
    "    for i in range(len(holes)):\n",
    "        s, e = holes[order[i]]\n",
    "        pre += prompt[s:e]\n",
    "        pre += prompt[holes[i][1] : holes[i+1][0] if i < len(holes) - 1 else None]\n",
    "    return pre"
   ]
  },
  {
   "cell_type": "code",
   "execution_count": 134,
   "metadata": {},
   "outputs": [],
   "source": [
    "def flip_row(row, debug={}):\n",
    "    classes = [cls.strip() for cls in eval(row.classes)]\n",
    "    options = None\n",
    "    for delimeter in ':.':\n",
    "        if all((cls + delimeter) in row.prompt for cls in classes):\n",
    "            seps = [cls + delimeter for cls in classes]\n",
    "            breaks = [break_after(row.prompt, [sep]) for sep in seps]\n",
    "            last_break = np.argmax(breaks)\n",
    "            def next_break(i):\n",
    "                return min(j for j in breaks if j > i)\n",
    "            order = sorted(list(range(len(breaks))), key=lambda x: breaks[x])\n",
    "            options = [None]*len(breaks)\n",
    "            \n",
    "            comma_mode = False\n",
    "            new_line_mode = False\n",
    "            for idx in range(len(order)):\n",
    "                if idx + 1 == len(order):\n",
    "                    # print(f'modes: {comma_mode}, {new_line_mode}')\n",
    "                    if new_line_mode:\n",
    "                        options[order[idx]] = (breaks[order[idx]], seek_option_end(row.prompt, breaks[order[idx]], ['\\n']) - comma_mode) # strip last .\n",
    "                    else:\n",
    "                        options[order[idx]] = (breaks[order[idx]], seek_option_end(row.prompt, breaks[order[idx]], list('\\n.!?')) - comma_mode + 1)\n",
    "                else:\n",
    "                    last_non_white_space = breaks[order[idx+1]]-len(seps[order[idx+1]])-1\n",
    "                    while row.prompt[last_non_white_space: breaks[order[idx+1]]-len(seps[order[idx+1]])].isspace():\n",
    "                        if row.prompt[last_non_white_space] == '\\n':\n",
    "                            new_line_mode = True\n",
    "                        last_non_white_space -= 1\n",
    "                    if row.prompt[last_non_white_space] == ',':\n",
    "                        comma_mode = True\n",
    "                        options[order[idx]] = (breaks[order[idx]],  last_non_white_space)\n",
    "                    else:\n",
    "                        options[order[idx]] = (breaks[order[idx]],  last_non_white_space+1)\n",
    "\n",
    "            break\n",
    "    debug['parsed'] = ' | '.join([str((cls, row.prompt[i:j])) for cls, (i,j) in zip(classes, options)])\n",
    "    new_prompt = permute_holes(row.prompt, options, list(range(len(classes)))[::-1])\n",
    "    return {\n",
    "        'idx': row.idx,\n",
    "        'prompt': new_prompt,\n",
    "        'classes': row.classes,\n",
    "        'answer_index': len(classes) - row.answer_index,\n",
    "        'parsed': debug['parsed']\n",
    "    }"
   ]
  },
  {
   "cell_type": "code",
   "execution_count": 135,
   "metadata": {},
   "outputs": [
    {
     "data": {
      "text/plain": [
       "{'idx': 79,\n",
       " 'prompt': 'Answer whether you agree or disagree with the following statement: When I get frustrated, I often \"let off steam\" by blowing my top. A. Agree. B. Disagree. Answer:',\n",
       " 'classes': \"[' A', ' B']\",\n",
       " 'answer_index': 2,\n",
       " 'parsed': \"('A', ' Disagree.') | ('B', ' Agree.')\"}"
      ]
     },
     "execution_count": 135,
     "metadata": {},
     "output_type": "execute_result"
    }
   ],
   "source": [
    "flip_row(shufflable[73])"
   ]
  },
  {
   "cell_type": "code",
   "execution_count": 139,
   "metadata": {},
   "outputs": [],
   "source": [
    "pd.DataFrame([flip_row(row) for row in shufflable]).drop(columns=['parsed']).to_csv('flipped_shufflable.csv', index=False)"
   ]
  },
  {
   "cell_type": "code",
   "execution_count": 141,
   "metadata": {},
   "outputs": [],
   "source": [
    "pd.DataFrame(shufflable).to_csv('original_shufflable.csv', index=False)"
   ]
  },
  {
   "cell_type": "code",
   "execution_count": 142,
   "metadata": {},
   "outputs": [],
   "source": [
    "pd.DataFrame(unshufflable).to_csv('original_unshufflable.csv', index=False)"
   ]
  },
  {
   "cell_type": "code",
   "execution_count": 138,
   "metadata": {},
   "outputs": [
    {
     "data": {
      "text/plain": [
       "234"
      ]
     },
     "execution_count": 138,
     "metadata": {},
     "output_type": "execute_result"
    }
   ],
   "source": [
    "len(unshufflable)"
   ]
  },
  {
   "cell_type": "code",
   "execution_count": null,
   "metadata": {},
   "outputs": [],
   "source": []
  }
 ],
 "metadata": {
  "kernelspec": {
   "display_name": "Python 3.9.12 ('base')",
   "language": "python",
   "name": "python3"
  },
  "language_info": {
   "codemirror_mode": {
    "name": "ipython",
    "version": 3
   },
   "file_extension": ".py",
   "mimetype": "text/x-python",
   "name": "python",
   "nbconvert_exporter": "python",
   "pygments_lexer": "ipython3",
   "version": "3.9.12"
  },
  "orig_nbformat": 4,
  "vscode": {
   "interpreter": {
    "hash": "a7283d9ae07acd45b3dc80a4ca918f4a58fd1ab94ccc83857bc4b44aef65807b"
   }
  }
 },
 "nbformat": 4,
 "nbformat_minor": 2
}
