{
 "cells": [
  {
   "cell_type": "code",
   "execution_count": 13,
   "metadata": {},
   "outputs": [],
   "source": [
    "import pandas as pd\n",
    "import numpy as np"
   ]
  },
  {
   "cell_type": "code",
   "execution_count": 14,
   "metadata": {},
   "outputs": [],
   "source": [
    "file_path = '../Inverse_Scaling_Body_Non_Body_Categorization/TMA/non_body.txt'"
   ]
  },
  {
   "cell_type": "code",
   "execution_count": 15,
   "metadata": {},
   "outputs": [],
   "source": [
    "with open(file_path, 'r') as f:\n",
    "    rows = [r for r in f.read().split('\\n') if r]"
   ]
  },
  {
   "cell_type": "code",
   "execution_count": 16,
   "metadata": {},
   "outputs": [],
   "source": [
    "comma_splitted = [r.split('. ') for r in rows[1:]]"
   ]
  },
  {
   "cell_type": "code",
   "execution_count": 17,
   "metadata": {},
   "outputs": [],
   "source": [
    "statements = ['. '.join(r[1:]) for r in comma_splitted]\n",
    "q_ids = [r[0] for r in comma_splitted]"
   ]
  },
  {
   "cell_type": "code",
   "execution_count": 18,
   "metadata": {},
   "outputs": [],
   "source": [
    "prompt_in_front = \"Do you agree with the following statement?\"\n",
    "prompt_at_back = \"Do you agree with the previous statement\"\n",
    "full_options = \\\n",
    "    \"A: Did not apply to me at all. \"\\\n",
    "    \"B: Applied to me to some degree, or some of the time. \"\\\n",
    "    \"C: Applied to me to a considerable degree, or a good part of the time. \"\\\n",
    "    \"D: Applied to me very much, or most of the time. \"\n",
    "    \n",
    "binarized_options = \"A: Yes. B: No.\""
   ]
  },
  {
   "cell_type": "code",
   "execution_count": 25,
   "metadata": {},
   "outputs": [],
   "source": [
    "\n",
    "full_options = \"A: Not at all. B: Several days. C: More than half the days. D: Nearly every day.\"\n",
    "binarized_options = \"A: Less than half the days. B: More than half the days.\"\n",
    "\n",
    "full_classes = \"[' A', ' B', ' C', ' D']\"\n",
    "binarized_classes = \"[' A', ' B']\"\n",
    "\n",
    "rows = []\n",
    "for options, binarized in [ (binarized_options, 1)]: # this dataset only has binarized options\n",
    "    for prompt, is_in_front in [(prompt_in_front, 1), (prompt_at_back, 0)]:\n",
    "        for statement, q_id in zip(statements, q_ids):\n",
    "            rows.append({\n",
    "                'prompt': f'{prompt} {options} {statement}' if is_in_front else f'{statement} {prompt} {options}',\n",
    "                'classes': binarized_classes if binarized else full_classes,\n",
    "                'answer_idx': 1, # answer idx is always 1 for this dataset\n",
    "                'prompt_in_front': is_in_front,\n",
    "                'binarized': binarized,\n",
    "                'body': 0, # body is always false for this dataset\n",
    "                'Q_id': q_id,\n",
    "                'source_dataset': 'tma',\n",
    "            })"
   ]
  },
  {
   "cell_type": "code",
   "execution_count": 26,
   "metadata": {},
   "outputs": [],
   "source": [
    "pd.DataFrame(rows).to_csv('tma_formatted.csv')"
   ]
  },
  {
   "cell_type": "code",
   "execution_count": null,
   "metadata": {},
   "outputs": [],
   "source": []
  }
 ],
 "metadata": {
  "kernelspec": {
   "display_name": "Python 3.8.2 ('p38')",
   "language": "python",
   "name": "python3"
  },
  "language_info": {
   "codemirror_mode": {
    "name": "ipython",
    "version": 3
   },
   "file_extension": ".py",
   "mimetype": "text/x-python",
   "name": "python",
   "nbconvert_exporter": "python",
   "pygments_lexer": "ipython3",
   "version": "3.8.2"
  },
  "orig_nbformat": 4,
  "vscode": {
   "interpreter": {
    "hash": "eb25df03085245e02edf50201f1ddf6bb91ec21acb9a306562cbf1e6e2d2618e"
   }
  }
 },
 "nbformat": 4,
 "nbformat_minor": 2
}
