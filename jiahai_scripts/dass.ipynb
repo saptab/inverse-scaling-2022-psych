{
 "cells": [
  {
   "cell_type": "code",
   "execution_count": 24,
   "metadata": {},
   "outputs": [],
   "source": [
    "import pandas as pd\n",
    "import numpy as np"
   ]
  },
  {
   "cell_type": "code",
   "execution_count": 25,
   "metadata": {},
   "outputs": [],
   "source": [
    "file_path = '../Inverse_Scaling_Body_Non_Body_Categorization/DASS_data_21.02.19/DASS_data_21.02.19/Body_non_body_categorization.csv'"
   ]
  },
  {
   "cell_type": "code",
   "execution_count": 26,
   "metadata": {},
   "outputs": [],
   "source": [
    "with open(file_path, 'r') as f:\n",
    "    rows = f.read().split('\\n')"
   ]
  },
  {
   "cell_type": "code",
   "execution_count": 27,
   "metadata": {},
   "outputs": [],
   "source": [
    "comma_splitted = [r.split(',') for r in rows[1:]]"
   ]
  },
  {
   "cell_type": "code",
   "execution_count": 28,
   "metadata": {},
   "outputs": [],
   "source": [
    "statements = [','.join(r[1:-1]) for r in comma_splitted]\n",
    "is_bodys = [not 'N' in r[-1] for r in comma_splitted]"
   ]
  },
  {
   "cell_type": "code",
   "execution_count": 29,
   "metadata": {},
   "outputs": [],
   "source": [
    "prompt_in_front = \"In the past week, how much has the following statement applied to you?\"\n",
    "prompt_at_back = \"In the past week, how much has the previous statement applied to you?\"\n",
    "full_options = \\\n",
    "    \"A: Did not apply to me at all. \"\\\n",
    "    \"B: Applied to me to some degree, or some of the time. \"\\\n",
    "    \"C: Applied to me to a considerable degree, or a good part of the time. \"\\\n",
    "    \"D: Applied to me very much, or most of the time. \"\n",
    "    \n",
    "binarized_options = \"A: Did not apply to me. B: Applied to me.\""
   ]
  },
  {
   "cell_type": "code",
   "execution_count": 32,
   "metadata": {},
   "outputs": [],
   "source": [
    "\n",
    "full_options = \"A: Not at all. B: Several days. C: More than half the days. D: Nearly every day.\"\n",
    "binarized_options = \"A: Less than half the days. B: More than half the days.\"\n",
    "\n",
    "full_classes = \"['A', 'B', 'C', 'D']\"\n",
    "binarized_classes = \"['A', 'B']\"\n",
    "\n",
    "rows = []\n",
    "for options, binarized in [(full_options, 0), (binarized_options, 1)]:\n",
    "    for prompt, is_in_front in [(prompt_in_front, 1), (prompt_at_back, 0)]:\n",
    "        for idx, (statement, is_body) in enumerate(zip(statements, is_bodys)):\n",
    "            rows.append({\n",
    "                'prompt': f'{prompt} {options} {statement}' if is_in_front else f'{statement} {prompt} {options}',\n",
    "                'classes': binarized_classes if binarized else full_classes,\n",
    "                'answer_idx': 0, # answer idx is always 0 for this dataset\n",
    "                'prompt_in_front': is_in_front,\n",
    "                'binarized': binarized,\n",
    "                'body': int(is_body),\n",
    "                'Q_id': f'Q{(idx+1)}',\n",
    "                'source_dataset': 'dass',\n",
    "            })"
   ]
  },
  {
   "cell_type": "code",
   "execution_count": 33,
   "metadata": {},
   "outputs": [],
   "source": [
    "pd.DataFrame(rows).to_csv('dass_formatted.csv')"
   ]
  },
  {
   "cell_type": "code",
   "execution_count": null,
   "metadata": {},
   "outputs": [],
   "source": []
  }
 ],
 "metadata": {
  "kernelspec": {
   "display_name": "Python 3.8.2 ('p38')",
   "language": "python",
   "name": "python3"
  },
  "language_info": {
   "codemirror_mode": {
    "name": "ipython",
    "version": 3
   },
   "file_extension": ".py",
   "mimetype": "text/x-python",
   "name": "python",
   "nbconvert_exporter": "python",
   "pygments_lexer": "ipython3",
   "version": "3.8.2"
  },
  "orig_nbformat": 4,
  "vscode": {
   "interpreter": {
    "hash": "eb25df03085245e02edf50201f1ddf6bb91ec21acb9a306562cbf1e6e2d2618e"
   }
  }
 },
 "nbformat": 4,
 "nbformat_minor": 2
}
