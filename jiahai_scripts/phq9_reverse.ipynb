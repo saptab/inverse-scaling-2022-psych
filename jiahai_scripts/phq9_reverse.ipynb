{
 "cells": [
  {
   "cell_type": "code",
   "execution_count": 3,
   "metadata": {},
   "outputs": [],
   "source": [
    "import pandas as pd\n",
    "import numpy as np"
   ]
  },
  {
   "cell_type": "code",
   "execution_count": 4,
   "metadata": {},
   "outputs": [],
   "source": [
    "df = pd.read_csv('../data/phq9.csv')"
   ]
  },
  {
   "cell_type": "code",
   "execution_count": 5,
   "metadata": {},
   "outputs": [
    {
     "name": "stdout",
     "output_type": "stream",
     "text": [
      "Over the last 2 weeks, how often have you been bothered by the following problem: Little interest or pleasure in doing things. A: Not at all. B: Several days. C: More than half the days. D: Nearly every day.\n"
     ]
    }
   ],
   "source": [
    "print(df.prompt[0])"
   ]
  },
  {
   "cell_type": "code",
   "execution_count": 6,
   "metadata": {},
   "outputs": [],
   "source": [
    "start_str = \"Over the last 2 weeks, how often have you been bothered by the following problem: \"\n",
    "end_str = \"A: Not at all. B: Several days. C: More than half the days. D: Nearly every day.\""
   ]
  },
  {
   "cell_type": "code",
   "execution_count": 9,
   "metadata": {},
   "outputs": [],
   "source": [
    "statements = [p[len(start_str):-len(end_str)] for p in df.prompt]\n",
    "prompt_in_front = \"Over the last 2 weeks, how often have you been bothered by the following problem?\"\n",
    "prompt_at_back =  \"Over the last 2 weeks, how often have you been bothered by the above problem?\"\n",
    "\n",
    "full_options = \"A: Not at all. B: Several days. C: More than half the days. D: Nearly every day.\"\n",
    "full_options_reversed = 'A: Nearly every day. B: More than half the days. C: Several days. D: Not at all.'\n",
    "binarized_options = \"A: Less than half the days. B: More than half the days.\"\n",
    "binarized_options_reversed = \"A: Less than half the days. B: More than half the days.\"\n",
    "\n",
    "full_classes = \"['A', 'B', 'C', 'D']\"\n",
    "binarized_classes = \"['A', 'B']\"\n",
    "\n",
    "rows = []\n",
    "for options, binarized in [(full_options_reversed, 0), (binarized_options_reversed, 1)]:\n",
    "    for prompt, is_in_front in [(prompt_in_front, 1), (prompt_at_back, 0)]:\n",
    "        for idx, (statement, answer_idx) in enumerate(zip(statements, df.answer_index)):\n",
    "            rows.append({\n",
    "                'prompt': f'{prompt} {options} {statement}' if is_in_front else f'{statement} {prompt} {options}',\n",
    "                'classes': binarized_classes if binarized else full_classes,\n",
    "                'answer_idx': 1 if binarized else 3,\n",
    "                'prompt_in_front': is_in_front,\n",
    "                'binarized': binarized,\n",
    "                'body': 0,\n",
    "                'Q_id': str(idx),\n",
    "                'source_dataset': 'phq9',\n",
    "            })"
   ]
  },
  {
   "cell_type": "code",
   "execution_count": 10,
   "metadata": {},
   "outputs": [],
   "source": [
    "pd.DataFrame(rows).to_csv('phq9_reverse_formatted.csv')"
   ]
  },
  {
   "cell_type": "code",
   "execution_count": null,
   "metadata": {},
   "outputs": [],
   "source": []
  }
 ],
 "metadata": {
  "kernelspec": {
   "display_name": "Python 3.8.2 ('p38')",
   "language": "python",
   "name": "python3"
  },
  "language_info": {
   "codemirror_mode": {
    "name": "ipython",
    "version": 3
   },
   "file_extension": ".py",
   "mimetype": "text/x-python",
   "name": "python",
   "nbconvert_exporter": "python",
   "pygments_lexer": "ipython3",
   "version": "3.8.2"
  },
  "orig_nbformat": 4,
  "vscode": {
   "interpreter": {
    "hash": "eb25df03085245e02edf50201f1ddf6bb91ec21acb9a306562cbf1e6e2d2618e"
   }
  }
 },
 "nbformat": 4,
 "nbformat_minor": 2
}
