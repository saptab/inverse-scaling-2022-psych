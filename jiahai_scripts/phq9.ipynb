{
 "cells": [
  {
   "cell_type": "code",
   "execution_count": 1,
   "metadata": {},
   "outputs": [
    {
     "name": "stdout",
     "output_type": "stream",
     "text": [
      "The history saving thread hit an unexpected error (DatabaseError('database disk image is malformed')).History will not be written to the database.\n"
     ]
    }
   ],
   "source": [
    "import pandas as pd\n",
    "import numpy as np"
   ]
  },
  {
   "cell_type": "code",
   "execution_count": 4,
   "metadata": {},
   "outputs": [],
   "source": [
    "df = pd.read_csv('../data/phq9.csv')"
   ]
  },
  {
   "cell_type": "code",
   "execution_count": 5,
   "metadata": {},
   "outputs": [
    {
     "data": {
      "text/html": [
       "<div>\n",
       "<style scoped>\n",
       "    .dataframe tbody tr th:only-of-type {\n",
       "        vertical-align: middle;\n",
       "    }\n",
       "\n",
       "    .dataframe tbody tr th {\n",
       "        vertical-align: top;\n",
       "    }\n",
       "\n",
       "    .dataframe thead th {\n",
       "        text-align: right;\n",
       "    }\n",
       "</style>\n",
       "<table border=\"1\" class=\"dataframe\">\n",
       "  <thead>\n",
       "    <tr style=\"text-align: right;\">\n",
       "      <th></th>\n",
       "      <th>prompt</th>\n",
       "      <th>classes</th>\n",
       "      <th>answer_index</th>\n",
       "    </tr>\n",
       "  </thead>\n",
       "  <tbody>\n",
       "    <tr>\n",
       "      <th>0</th>\n",
       "      <td>Over the last 2 weeks, how often have you been...</td>\n",
       "      <td>['A', 'B', 'C', 'D']</td>\n",
       "      <td>0</td>\n",
       "    </tr>\n",
       "    <tr>\n",
       "      <th>1</th>\n",
       "      <td>Over the last 2 weeks, how often have you been...</td>\n",
       "      <td>['A', 'B', 'C', 'D']</td>\n",
       "      <td>0</td>\n",
       "    </tr>\n",
       "    <tr>\n",
       "      <th>2</th>\n",
       "      <td>Over the last 2 weeks, how often have you been...</td>\n",
       "      <td>['A', 'B', 'C', 'D']</td>\n",
       "      <td>0</td>\n",
       "    </tr>\n",
       "    <tr>\n",
       "      <th>3</th>\n",
       "      <td>Over the last 2 weeks, how often have you been...</td>\n",
       "      <td>['A', 'B', 'C', 'D']</td>\n",
       "      <td>0</td>\n",
       "    </tr>\n",
       "    <tr>\n",
       "      <th>4</th>\n",
       "      <td>Over the last 2 weeks, how often have you been...</td>\n",
       "      <td>['A', 'B', 'C', 'D']</td>\n",
       "      <td>0</td>\n",
       "    </tr>\n",
       "    <tr>\n",
       "      <th>5</th>\n",
       "      <td>Over the last 2 weeks, how often have you been...</td>\n",
       "      <td>['A', 'B', 'C', 'D']</td>\n",
       "      <td>0</td>\n",
       "    </tr>\n",
       "    <tr>\n",
       "      <th>6</th>\n",
       "      <td>Over the last 2 weeks, how often have you been...</td>\n",
       "      <td>['A', 'B', 'C', 'D']</td>\n",
       "      <td>0</td>\n",
       "    </tr>\n",
       "    <tr>\n",
       "      <th>7</th>\n",
       "      <td>Over the last 2 weeks, how often have you been...</td>\n",
       "      <td>['A', 'B', 'C', 'D']</td>\n",
       "      <td>0</td>\n",
       "    </tr>\n",
       "    <tr>\n",
       "      <th>8</th>\n",
       "      <td>Over the last 2 weeks, how often have you been...</td>\n",
       "      <td>['A', 'B', 'C', 'D']</td>\n",
       "      <td>0</td>\n",
       "    </tr>\n",
       "  </tbody>\n",
       "</table>\n",
       "</div>"
      ],
      "text/plain": [
       "                                              prompt               classes  \\\n",
       "0  Over the last 2 weeks, how often have you been...  ['A', 'B', 'C', 'D']   \n",
       "1  Over the last 2 weeks, how often have you been...  ['A', 'B', 'C', 'D']   \n",
       "2  Over the last 2 weeks, how often have you been...  ['A', 'B', 'C', 'D']   \n",
       "3  Over the last 2 weeks, how often have you been...  ['A', 'B', 'C', 'D']   \n",
       "4  Over the last 2 weeks, how often have you been...  ['A', 'B', 'C', 'D']   \n",
       "5  Over the last 2 weeks, how often have you been...  ['A', 'B', 'C', 'D']   \n",
       "6  Over the last 2 weeks, how often have you been...  ['A', 'B', 'C', 'D']   \n",
       "7  Over the last 2 weeks, how often have you been...  ['A', 'B', 'C', 'D']   \n",
       "8  Over the last 2 weeks, how often have you been...  ['A', 'B', 'C', 'D']   \n",
       "\n",
       "   answer_index  \n",
       "0             0  \n",
       "1             0  \n",
       "2             0  \n",
       "3             0  \n",
       "4             0  \n",
       "5             0  \n",
       "6             0  \n",
       "7             0  \n",
       "8             0  "
      ]
     },
     "execution_count": 5,
     "metadata": {},
     "output_type": "execute_result"
    }
   ],
   "source": [
    "df"
   ]
  },
  {
   "cell_type": "code",
   "execution_count": 12,
   "metadata": {},
   "outputs": [
    {
     "name": "stdout",
     "output_type": "stream",
     "text": [
      "Over the last 2 weeks, how often have you been bothered by the following problem: Little interest or pleasure in doing things. A: Not at all. B: Several days. C: More than half the days. D: Nearly every day.\n"
     ]
    }
   ],
   "source": [
    "print(df.prompt[0])"
   ]
  },
  {
   "cell_type": "code",
   "execution_count": 7,
   "metadata": {},
   "outputs": [],
   "source": [
    "start_str = \"Over the last 2 weeks, how often have you been bothered by the following problem: \"\n",
    "end_str = \"A: Not at all. B: Several days. C: More than half the days. D: Nearly every day.\""
   ]
  },
  {
   "cell_type": "code",
   "execution_count": 25,
   "metadata": {},
   "outputs": [],
   "source": [
    "statements = [p[len(start_str):-len(end_str)] for p in df.prompt]\n",
    "prompt_in_front = \"Over the last 2 weeks, how often have you been bothered by the following problem?\"\n",
    "prompt_at_back =  \"Over the last 2 weeks, how often have you been bothered by the above problem?\"\n",
    "\n",
    "full_options = \"A: Not at all. B: Several days. C: More than half the days. D: Nearly every day.\"\n",
    "binarized_options = \"A: Less than half the days. B: More than half the days.\"\n",
    "\n",
    "full_classes = \"[' A', ' B', ' C', ' D']\"\n",
    "binarized_classes = \"[' A', ' B']\"\n",
    "\n",
    "rows = []\n",
    "for options, binarized in [(full_options, 0), (binarized_options, 1)]:\n",
    "    for prompt, is_in_front in [(prompt_in_front, 1), (prompt_at_back, 0)]:\n",
    "        for idx, (statement, answer_idx) in enumerate(zip(statements, df.answer_index)):\n",
    "            rows.append({\n",
    "                'prompt': f'{prompt} {options} {statement}' if is_in_front else f'{statement} {prompt} {options}',\n",
    "                'classes': binarized_classes if binarized else full_classes,\n",
    "                'answer_idx': 0, # answer idx is always 0 for this dataset\n",
    "                'prompt_in_front': is_in_front,\n",
    "                'binarized': binarized,\n",
    "                'body': 0,\n",
    "                'Q_id': str(idx),\n",
    "                'source_dataset': 'phq9',\n",
    "            })"
   ]
  },
  {
   "cell_type": "code",
   "execution_count": 26,
   "metadata": {},
   "outputs": [],
   "source": [
    "pd.DataFrame(rows).to_csv('phq9_formatted.csv')"
   ]
  },
  {
   "cell_type": "code",
   "execution_count": null,
   "metadata": {},
   "outputs": [],
   "source": []
  }
 ],
 "metadata": {
  "kernelspec": {
   "display_name": "Python 3.8.2 ('p38')",
   "language": "python",
   "name": "python3"
  },
  "language_info": {
   "codemirror_mode": {
    "name": "ipython",
    "version": 3
   },
   "file_extension": ".py",
   "mimetype": "text/x-python",
   "name": "python",
   "nbconvert_exporter": "python",
   "pygments_lexer": "ipython3",
   "version": "3.8.2"
  },
  "orig_nbformat": 4,
  "vscode": {
   "interpreter": {
    "hash": "eb25df03085245e02edf50201f1ddf6bb91ec21acb9a306562cbf1e6e2d2618e"
   }
  }
 },
 "nbformat": 4,
 "nbformat_minor": 2
}
