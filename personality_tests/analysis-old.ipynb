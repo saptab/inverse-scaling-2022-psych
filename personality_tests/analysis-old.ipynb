{
 "cells": [
  {
   "cell_type": "markdown",
   "metadata": {},
   "source": [
    "### Load libraries"
   ]
  },
  {
   "cell_type": "code",
   "execution_count": 1,
   "metadata": {},
   "outputs": [],
   "source": [
    "from ast import literal_eval\n",
    "from typing import Callable\n",
    "\n",
    "import matplotlib.pyplot as plt\n",
    "import numpy as np\n",
    "import pandas as pd\n",
    "\n",
    "plt.style.use(\"ggplot\")"
   ]
  },
  {
   "cell_type": "code",
   "execution_count": 2,
   "metadata": {},
   "outputs": [
    {
     "name": "stdout",
     "output_type": "stream",
     "text": [
      "3320\n"
     ]
    },
    {
     "data": {
      "text/html": [
       "<div>\n",
       "<style scoped>\n",
       "    .dataframe tbody tr th:only-of-type {\n",
       "        vertical-align: middle;\n",
       "    }\n",
       "\n",
       "    .dataframe tbody tr th {\n",
       "        vertical-align: top;\n",
       "    }\n",
       "\n",
       "    .dataframe thead th {\n",
       "        text-align: right;\n",
       "    }\n",
       "</style>\n",
       "<table border=\"1\" class=\"dataframe\">\n",
       "  <thead>\n",
       "    <tr style=\"text-align: right;\">\n",
       "      <th></th>\n",
       "      <th>prompt</th>\n",
       "      <th>classes</th>\n",
       "      <th>answer_index</th>\n",
       "      <th>source_dataset</th>\n",
       "      <th>body</th>\n",
       "      <th>Q_id</th>\n",
       "      <th>prompt_in_front</th>\n",
       "      <th>binarized</th>\n",
       "      <th>n_classes</th>\n",
       "      <th>baseline_acc</th>\n",
       "      <th>baseline_loss</th>\n",
       "    </tr>\n",
       "  </thead>\n",
       "  <tbody>\n",
       "    <tr>\n",
       "      <th>0</th>\n",
       "      <td>For the following statement, choose whether it...</td>\n",
       "      <td>[' 1', ' 2', ' 3', ' 4', ' 5']</td>\n",
       "      <td>0</td>\n",
       "      <td>ipip</td>\n",
       "      <td>False</td>\n",
       "      <td>0</td>\n",
       "      <td>False</td>\n",
       "      <td>False</td>\n",
       "      <td>5</td>\n",
       "      <td>0.2</td>\n",
       "      <td>1.609438</td>\n",
       "    </tr>\n",
       "    <tr>\n",
       "      <th>1</th>\n",
       "      <td>For the following statement, choose whether it...</td>\n",
       "      <td>[' 1', ' 2', ' 3', ' 4', ' 5']</td>\n",
       "      <td>0</td>\n",
       "      <td>ipip</td>\n",
       "      <td>False</td>\n",
       "      <td>1</td>\n",
       "      <td>False</td>\n",
       "      <td>False</td>\n",
       "      <td>5</td>\n",
       "      <td>0.2</td>\n",
       "      <td>1.609438</td>\n",
       "    </tr>\n",
       "    <tr>\n",
       "      <th>2</th>\n",
       "      <td>For the following statement, choose whether it...</td>\n",
       "      <td>[' 1', ' 2', ' 3', ' 4', ' 5']</td>\n",
       "      <td>0</td>\n",
       "      <td>ipip</td>\n",
       "      <td>False</td>\n",
       "      <td>2</td>\n",
       "      <td>False</td>\n",
       "      <td>False</td>\n",
       "      <td>5</td>\n",
       "      <td>0.2</td>\n",
       "      <td>1.609438</td>\n",
       "    </tr>\n",
       "    <tr>\n",
       "      <th>3</th>\n",
       "      <td>For the following statement, choose whether it...</td>\n",
       "      <td>[' 1', ' 2', ' 3', ' 4', ' 5']</td>\n",
       "      <td>0</td>\n",
       "      <td>ipip</td>\n",
       "      <td>False</td>\n",
       "      <td>3</td>\n",
       "      <td>False</td>\n",
       "      <td>False</td>\n",
       "      <td>5</td>\n",
       "      <td>0.2</td>\n",
       "      <td>1.609438</td>\n",
       "    </tr>\n",
       "    <tr>\n",
       "      <th>4</th>\n",
       "      <td>For the following statement, choose whether it...</td>\n",
       "      <td>[' 1', ' 2', ' 3', ' 4', ' 5']</td>\n",
       "      <td>0</td>\n",
       "      <td>ipip</td>\n",
       "      <td>False</td>\n",
       "      <td>4</td>\n",
       "      <td>False</td>\n",
       "      <td>False</td>\n",
       "      <td>5</td>\n",
       "      <td>0.2</td>\n",
       "      <td>1.609438</td>\n",
       "    </tr>\n",
       "  </tbody>\n",
       "</table>\n",
       "</div>"
      ],
      "text/plain": [
       "                                              prompt  \\\n",
       "0  For the following statement, choose whether it...   \n",
       "1  For the following statement, choose whether it...   \n",
       "2  For the following statement, choose whether it...   \n",
       "3  For the following statement, choose whether it...   \n",
       "4  For the following statement, choose whether it...   \n",
       "\n",
       "                          classes  answer_index source_dataset   body  Q_id  \\\n",
       "0  [' 1', ' 2', ' 3', ' 4', ' 5']             0           ipip  False     0   \n",
       "1  [' 1', ' 2', ' 3', ' 4', ' 5']             0           ipip  False     1   \n",
       "2  [' 1', ' 2', ' 3', ' 4', ' 5']             0           ipip  False     2   \n",
       "3  [' 1', ' 2', ' 3', ' 4', ' 5']             0           ipip  False     3   \n",
       "4  [' 1', ' 2', ' 3', ' 4', ' 5']             0           ipip  False     4   \n",
       "\n",
       "   prompt_in_front  binarized  n_classes  baseline_acc  baseline_loss  \n",
       "0            False      False          5           0.2       1.609438  \n",
       "1            False      False          5           0.2       1.609438  \n",
       "2            False      False          5           0.2       1.609438  \n",
       "3            False      False          5           0.2       1.609438  \n",
       "4            False      False          5           0.2       1.609438  "
      ]
     },
     "execution_count": 2,
     "metadata": {},
     "output_type": "execute_result"
    }
   ],
   "source": [
    "df = pd.read_csv(\"ipip.csv\").rename(columns={\"front\": \"prompt_in_front\"})\n",
    "\n",
    "df.body = df.body.astype(bool)\n",
    "df.prompt_in_front = df.prompt_in_front.astype(bool)\n",
    "df.binarized = df.binarized.astype(bool)\n",
    "\n",
    "df[\"n_classes\"] = df.classes.str.count(\",\") + 1\n",
    "df[\"baseline_acc\"] = 1 / df.n_classes\n",
    "df[\"baseline_loss\"] = -np.log(df.baseline_acc)\n",
    "\n",
    "assert len(df[(df.binarized & (df.n_classes != 2))]) == 0\n",
    "assert len(df[(~df.binarized & (df.n_classes == 2))]) == 0\n",
    "\n",
    "print(len(df))\n",
    "df.head()"
   ]
  },
  {
   "cell_type": "code",
   "execution_count": 3,
   "metadata": {},
   "outputs": [
    {
     "data": {
      "image/png": "[encoded data removed]",
      "text/plain": [
       "<Figure size 500x200 with 1 Axes>"
      ]
     },
     "metadata": {},
     "output_type": "display_data"
    }
   ],
   "source": [
    "plt.figure(figsize=(5, 2))\n",
    "df.groupby(\"n_classes\").size().plot.barh();"
   ]
  },
  {
   "cell_type": "markdown",
   "metadata": {},
   "source": [
    "### Load evaluation results"
   ]
  },
  {
   "cell_type": "code",
   "execution_count": 4,
   "metadata": {},
   "outputs": [],
   "source": [
    "CSV_MAP: dict[str, str] = {\n",
    "    \"ada\": \"ada.csv\",\n",
    "    \"babbage\": \"babbage.csv\",\n",
    "    \"curie\": \"curie.csv\",\n",
    "    \"davinci\": \"davinci.csv\",\n",
    "    \"ada_rlhf\": \"text-ada-001.csv\",\n",
    "    \"babbage_rlhf\": \"text-babbage-001.csv\",\n",
    "    \"curie_rlhf\": \"text-curie-001.csv\",\n",
    "    \"davinci_rlhf\": \"text-davinci-001.csv\",\n",
    "    \"opt_125m\": \"opt-125m.csv\",\n",
    "    \"opt_350m\": \"opt-350m.csv\",\n",
    "    \"opt_1_3b\": \"opt-1.3b.csv\",\n",
    "    \"opt_2_7b\": \"opt-2.7b.csv\",\n",
    "}\n",
    "\n",
    "GPT3_SIZES = {\n",
    "    # GPT-3 sizes are based on https://blog.eleuther.ai/gpt3-model-sizes/\n",
    "    \"ada\": 350_000_000,\n",
    "    \"babbage\": 1_300_000_000,\n",
    "    \"curie\": 6_700_000_000,\n",
    "    \"davinci\": 175_000_000_000,\n",
    "}\n",
    "\n",
    "GPT3_RLHF_SIZES = {\n",
    "    \"ada_rlhf\": 350_000_000,\n",
    "    \"babbage_rlhf\": 1_300_000_000,\n",
    "    \"curie_rlhf\": 6_700_000_000,\n",
    "    \"davinci_rlhf\": 175_000_000_000,\n",
    "}\n",
    "\n",
    "OPT_SIZES = {\n",
    "    # opt sizes from their names\n",
    "    \"opt_125m\": 125_000_000,\n",
    "    \"opt_350m\": 350_000_000,\n",
    "    \"opt_1_3b\": 1_300_000_000,\n",
    "    \"opt_2_7b\": 2_700_000_000,\n",
    "}\n",
    "\n",
    "OGPT_SIZES = {\"opt_125m\": 125_000_000} | GPT3_SIZES"
   ]
  },
  {
   "cell_type": "code",
   "execution_count": 6,
   "metadata": {},
   "outputs": [
    {
     "data": {
      "text/plain": [
       "Index(['Q_id', 'answer_index', 'baseline_acc', 'baseline_loss', 'binarized',\n",
       "       'body', 'classes', 'n_classes', 'pred_ada', 'pred_ada_rlhf',\n",
       "       'pred_babbage', 'pred_babbage_rlhf', 'pred_curie', 'pred_curie_rlhf',\n",
       "       'pred_davinci', 'pred_davinci_rlhf', 'pred_opt_125m', 'pred_opt_1_3b',\n",
       "       'pred_opt_2_7b', 'pred_opt_350m', 'prob_ada_0', 'prob_ada_1',\n",
       "       'prob_ada_2', 'prob_ada_3', 'prob_ada_4', 'prob_ada_rlhf_0',\n",
       "       'prob_ada_rlhf_1', 'prob_ada_rlhf_2', 'prob_ada_rlhf_3',\n",
       "       'prob_ada_rlhf_4', 'prob_babbage_0', 'prob_babbage_1', 'prob_babbage_2',\n",
       "       'prob_babbage_3', 'prob_babbage_4', 'prob_babbage_rlhf_0',\n",
       "       'prob_babbage_rlhf_1', 'prob_babbage_rlhf_2', 'prob_babbage_rlhf_3',\n",
       "       'prob_babbage_rlhf_4', 'prob_curie_0', 'prob_curie_1', 'prob_curie_2',\n",
       "       'prob_curie_3', 'prob_curie_4', 'prob_curie_rlhf_0',\n",
       "       'prob_curie_rlhf_1', 'prob_curie_rlhf_2', 'prob_curie_rlhf_3',\n",
       "       'prob_curie_rlhf_4', 'prob_davinci_0', 'prob_davinci_1',\n",
       "       'prob_davinci_2', 'prob_davinci_3', 'prob_davinci_4',\n",
       "       'prob_davinci_rlhf_0', 'prob_davinci_rlhf_1', 'prob_davinci_rlhf_2',\n",
       "       'prob_davinci_rlhf_3', 'prob_davinci_rlhf_4', 'prob_opt_125m_0',\n",
       "       'prob_opt_125m_1', 'prob_opt_125m_2', 'prob_opt_125m_3',\n",
       "       'prob_opt_125m_4', 'prob_opt_1_3b_0', 'prob_opt_1_3b_1',\n",
       "       'prob_opt_1_3b_2', 'prob_opt_1_3b_3', 'prob_opt_1_3b_4',\n",
       "       'prob_opt_2_7b_0', 'prob_opt_2_7b_1', 'prob_opt_2_7b_2',\n",
       "       'prob_opt_2_7b_3', 'prob_opt_2_7b_4', 'prob_opt_350m_0',\n",
       "       'prob_opt_350m_1', 'prob_opt_350m_2', 'prob_opt_350m_3',\n",
       "       'prob_opt_350m_4', 'prompt', 'prompt_in_front', 'source_dataset'],\n",
       "      dtype='object')"
      ]
     },
     "execution_count": 6,
     "metadata": {},
     "output_type": "execute_result"
    }
   ],
   "source": [
    "for model_name, path in CSV_MAP.items():\n",
    "    cur_df = pd.read_csv(\"results_full/v1/\" + path)\n",
    "\n",
    "    assert len(df) == len(cur_df)\n",
    "\n",
    "    # Parse probs\n",
    "    probs_mat = np.array([literal_eval(x) for x in cur_df.probs])\n",
    "    for i in range(probs_mat.shape[1]):\n",
    "        df[f\"prob_{model_name}_{i}\"] = probs_mat[:, i]\n",
    "        df[f\"pred_{model_name}\"] = probs_mat.argmax(axis=1)\n",
    "\n",
    "df.columns.sort_values()"
   ]
  },
  {
   "cell_type": "markdown",
   "metadata": {},
   "source": [
    "### High level statistics about predictions"
   ]
  },
  {
   "cell_type": "code",
   "execution_count": 7,
   "metadata": {},
   "outputs": [
    {
     "data": {
      "image/png": "[encoded data removed]",
      "text/plain": [
       "<Figure size 1800x1000 with 12 Axes>"
      ]
     },
     "metadata": {},
     "output_type": "display_data"
    }
   ],
   "source": [
    "# Distribution of predictions\n",
    "plt.figure(figsize=(18, 10))\n",
    "for i, model_list in enumerate([OPT_SIZES.keys(), GPT3_SIZES.keys(), GPT3_RLHF_SIZES.keys()]):\n",
    "    for j, model_name in enumerate(model_list):\n",
    "        plt.subplot(3, 4, 4 * i + j + 1)\n",
    "        df[f\"pred_{model_name}\"].value_counts().plot.barh();\n",
    "        plt.title(model_name)"
   ]
  },
  {
   "cell_type": "markdown",
   "metadata": {},
   "source": [
    "### Cherry-picking"
   ]
  },
  {
   "cell_type": "code",
   "execution_count": null,
   "metadata": {},
   "outputs": [],
   "source": [
    "df[\"gpt3_diff0\"] = (df.prob_babbage_0 - df.prob_davinci_0).abs()\n",
    "df[\"gpt3_diff0\"] = (df.prob_davinci_0 - df.prob_davinci_4).abs()"
   ]
  },
  {
   "cell_type": "markdown",
   "metadata": {},
   "source": [
    "### Plotting code"
   ]
  },
  {
   "cell_type": "code",
   "execution_count": null,
   "metadata": {},
   "outputs": [],
   "source": [
    "filt = \"|\".join([\n",
    "    \"(prob_babbage_0 > prob_davinci_0)\",\n",
    "    \"(prob_babbage_4 > prob_davinci_4)\",\n",
    "    \"(prob_babbage_0 < prob_davinci_0)\",\n",
    "    \"(prob_babbage_4 < prob_davinci_4)\",\n",
    "])\n",
    "len(df.query(filt))"
   ]
  },
  {
   "cell_type": "code",
   "execution_count": null,
   "metadata": {},
   "outputs": [],
   "source": [
    "def gen_plots(\n",
    "    df: pd.DataFrame,\n",
    "    size_dict: dict[str, int],\n",
    "    title: str = \"\",\n",
    "):\n",
    "    models = list(size_dict.keys())\n",
    "    sizes = np.array(list(size_dict.values()))\n",
    "\n",
    "    losses = np.array([df[f\"loss_{m}\"].mean() for m in models])\n",
    "    loss_errs = np.array([df[f\"loss_{m}\"].std() for m in models]) / np.sqrt(len(df))\n",
    "    accs = np.array([df[f\"correct_{m}\"].mean() for m in models])\n",
    "    partial_accs = np.array([df[f\"partial_credit_{m}\"].mean() for m in models])\n",
    "\n",
    "    plt.figure(figsize=(16, 3))\n",
    "    plt.suptitle(title + f\" (n={len(df)})\")\n",
    "    plt.tight_layout()\n",
    "\n",
    "    def common_plot_setup(baseline: float):\n",
    "        plt.axhline(\n",
    "            baseline,\n",
    "            linestyle=\"--\",\n",
    "            color=\"black\",\n",
    "            zorder=-1,\n",
    "            label=\"random baseline\",\n",
    "        )\n",
    "        plt.xscale(\"log\")\n",
    "        # plt.xlabel(\"Model size\")\n",
    "        plt.xticks(sizes, models)\n",
    "        plt.legend()\n",
    "\n",
    "    # Loss\n",
    "    plt.subplot(1, 3, 1)\n",
    "    plt.errorbar(sizes, losses, loss_errs, label=\"loss\")\n",
    "    plt.yscale(\"log\")\n",
    "    common_plot_setup(df.baseline_loss.mean())\n",
    "\n",
    "    # Acc\n",
    "    plt.subplot(1, 3, 2)\n",
    "    plt.plot(sizes, accs, label=\"acc.\")\n",
    "    plt.ylim(-0.02, 1.02)\n",
    "    common_plot_setup(df.baseline_acc.mean())\n",
    "\n",
    "    # Partial acc\n",
    "    plt.subplot(1, 3, 3)\n",
    "    plt.plot(sizes, partial_accs, label=\"partial acc.\")\n",
    "    plt.ylim(-0.02, 1.02)\n",
    "    common_plot_setup(0.5)\n",
    "\n",
    "gen_plots(df, OGPT_SIZES, title=\"opt-125m + gpt3 scaling\")"
   ]
  },
  {
   "cell_type": "markdown",
   "metadata": {},
   "source": [
    "### Time for some inverse scaling!"
   ]
  }
 ],
 "metadata": {
  "kernelspec": {
   "display_name": "Python 3.9.12 ('inverse-scaling')",
   "language": "python",
   "name": "python3"
  },
  "language_info": {
   "codemirror_mode": {
    "name": "ipython",
    "version": 3
   },
   "file_extension": ".py",
   "mimetype": "text/x-python",
   "name": "python",
   "nbconvert_exporter": "python",
   "pygments_lexer": "ipython3",
   "version": "3.9.12"
  },
  "orig_nbformat": 4,
  "vscode": {
   "interpreter": {
    "hash": "f6700999d81053ee009abdff5f8983854f6ce20985af400d492e6404f3791336"
   }
  }
 },
 "nbformat": 4,
 "nbformat_minor": 2
}
