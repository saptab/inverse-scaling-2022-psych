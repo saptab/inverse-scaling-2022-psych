{
 "cells": [
  {
   "cell_type": "markdown",
   "metadata": {},
   "source": [
    "### Load libraries"
   ]
  },
  {
   "cell_type": "code",
   "execution_count": 1,
   "metadata": {},
   "outputs": [],
   "source": [
    "from ast import literal_eval\n",
    "from typing import Callable\n",
    "\n",
    "import matplotlib.pyplot as plt\n",
    "import numpy as np\n",
    "import pandas as pd\n",
    "\n",
    "plt.style.use(\"ggplot\")"
   ]
  },
  {
   "cell_type": "code",
   "execution_count": 5,
   "metadata": {},
   "outputs": [
    {
     "name": "stdout",
     "output_type": "stream",
     "text": [
      "299\n"
     ]
    },
    {
     "data": {
      "text/html": [
       "<div>\n",
       "<style scoped>\n",
       "    .dataframe tbody tr th:only-of-type {\n",
       "        vertical-align: middle;\n",
       "    }\n",
       "\n",
       "    .dataframe tbody tr th {\n",
       "        vertical-align: top;\n",
       "    }\n",
       "\n",
       "    .dataframe thead th {\n",
       "        text-align: right;\n",
       "    }\n",
       "</style>\n",
       "<table border=\"1\" class=\"dataframe\">\n",
       "  <thead>\n",
       "    <tr style=\"text-align: right;\">\n",
       "      <th></th>\n",
       "      <th>prompt</th>\n",
       "      <th>classes</th>\n",
       "      <th>answer_index</th>\n",
       "      <th>source_dataset</th>\n",
       "      <th>body</th>\n",
       "      <th>Q_id</th>\n",
       "      <th>prompt_in_front</th>\n",
       "      <th>binarized</th>\n",
       "      <th>n_classes</th>\n",
       "      <th>baseline_acc</th>\n",
       "      <th>baseline_loss</th>\n",
       "    </tr>\n",
       "  </thead>\n",
       "  <tbody>\n",
       "    <tr>\n",
       "      <th>0</th>\n",
       "      <td>For each pair, please choose a number from 1 t...</td>\n",
       "      <td>[' 1', ' 2', ' 3', ' 4', ' 5']</td>\n",
       "      <td>0</td>\n",
       "      <td>open_myers_briggs</td>\n",
       "      <td>False</td>\n",
       "      <td>0</td>\n",
       "      <td>True</td>\n",
       "      <td>False</td>\n",
       "      <td>5</td>\n",
       "      <td>0.2</td>\n",
       "      <td>1.609438</td>\n",
       "    </tr>\n",
       "    <tr>\n",
       "      <th>1</th>\n",
       "      <td>For each pair, please choose a number from 1 t...</td>\n",
       "      <td>[' 1', ' 2', ' 3', ' 4', ' 5']</td>\n",
       "      <td>0</td>\n",
       "      <td>open_myers_briggs</td>\n",
       "      <td>False</td>\n",
       "      <td>1</td>\n",
       "      <td>True</td>\n",
       "      <td>False</td>\n",
       "      <td>5</td>\n",
       "      <td>0.2</td>\n",
       "      <td>1.609438</td>\n",
       "    </tr>\n",
       "    <tr>\n",
       "      <th>2</th>\n",
       "      <td>For each pair, please choose a number from 1 t...</td>\n",
       "      <td>[' 1', ' 2', ' 3', ' 4', ' 5']</td>\n",
       "      <td>0</td>\n",
       "      <td>open_myers_briggs</td>\n",
       "      <td>False</td>\n",
       "      <td>2</td>\n",
       "      <td>True</td>\n",
       "      <td>False</td>\n",
       "      <td>5</td>\n",
       "      <td>0.2</td>\n",
       "      <td>1.609438</td>\n",
       "    </tr>\n",
       "    <tr>\n",
       "      <th>3</th>\n",
       "      <td>For each pair, please choose a number from 1 t...</td>\n",
       "      <td>[' 1', ' 2', ' 3', ' 4', ' 5']</td>\n",
       "      <td>0</td>\n",
       "      <td>open_myers_briggs</td>\n",
       "      <td>False</td>\n",
       "      <td>3</td>\n",
       "      <td>True</td>\n",
       "      <td>False</td>\n",
       "      <td>5</td>\n",
       "      <td>0.2</td>\n",
       "      <td>1.609438</td>\n",
       "    </tr>\n",
       "    <tr>\n",
       "      <th>4</th>\n",
       "      <td>For each pair, please choose a number from 1 t...</td>\n",
       "      <td>[' 1', ' 2', ' 3', ' 4', ' 5']</td>\n",
       "      <td>0</td>\n",
       "      <td>open_myers_briggs</td>\n",
       "      <td>False</td>\n",
       "      <td>4</td>\n",
       "      <td>True</td>\n",
       "      <td>False</td>\n",
       "      <td>5</td>\n",
       "      <td>0.2</td>\n",
       "      <td>1.609438</td>\n",
       "    </tr>\n",
       "  </tbody>\n",
       "</table>\n",
       "</div>"
      ],
      "text/plain": [
       "                                              prompt  \\\n",
       "0  For each pair, please choose a number from 1 t...   \n",
       "1  For each pair, please choose a number from 1 t...   \n",
       "2  For each pair, please choose a number from 1 t...   \n",
       "3  For each pair, please choose a number from 1 t...   \n",
       "4  For each pair, please choose a number from 1 t...   \n",
       "\n",
       "                          classes  answer_index     source_dataset   body  \\\n",
       "0  [' 1', ' 2', ' 3', ' 4', ' 5']             0  open_myers_briggs  False   \n",
       "1  [' 1', ' 2', ' 3', ' 4', ' 5']             0  open_myers_briggs  False   \n",
       "2  [' 1', ' 2', ' 3', ' 4', ' 5']             0  open_myers_briggs  False   \n",
       "3  [' 1', ' 2', ' 3', ' 4', ' 5']             0  open_myers_briggs  False   \n",
       "4  [' 1', ' 2', ' 3', ' 4', ' 5']             0  open_myers_briggs  False   \n",
       "\n",
       "   Q_id  prompt_in_front  binarized  n_classes  baseline_acc  baseline_loss  \n",
       "0     0             True      False          5           0.2       1.609438  \n",
       "1     1             True      False          5           0.2       1.609438  \n",
       "2     2             True      False          5           0.2       1.609438  \n",
       "3     3             True      False          5           0.2       1.609438  \n",
       "4     4             True      False          5           0.2       1.609438  "
      ]
     },
     "execution_count": 5,
     "metadata": {},
     "output_type": "execute_result"
    }
   ],
   "source": [
    "df = pd.read_csv(\"open_myers_briggs2.csv\").rename(columns={\"front\": \"prompt_in_front\"})\n",
    "\n",
    "df.body = df.body.astype(bool)\n",
    "df.prompt_in_front = df.prompt_in_front.astype(bool)\n",
    "df.binarized = df.binarized.astype(bool)\n",
    "\n",
    "df[\"n_classes\"] = df.classes.str.count(\",\") + 1\n",
    "df[\"baseline_acc\"] = 1 / df.n_classes\n",
    "df[\"baseline_loss\"] = -np.log(df.baseline_acc)\n",
    "\n",
    "assert len(df[(df.binarized & (df.n_classes != 2))]) == 0\n",
    "assert len(df[(~df.binarized & (df.n_classes == 2))]) == 0\n",
    "\n",
    "print(len(df))\n",
    "df.head()"
   ]
  },
  {
   "cell_type": "code",
   "execution_count": 6,
   "metadata": {},
   "outputs": [
    {
     "data": {
      "image/png": "[encoded data removed]",
      "text/plain": [
       "<Figure size 360x144 with 1 Axes>"
      ]
     },
     "metadata": {},
     "output_type": "display_data"
    }
   ],
   "source": [
    "plt.figure(figsize=(5, 2))\n",
    "df.groupby(\"n_classes\").size().plot.barh();"
   ]
  },
  {
   "cell_type": "markdown",
   "metadata": {},
   "source": [
    "### Load evaluation results"
   ]
  },
  {
   "cell_type": "code",
   "execution_count": 7,
   "metadata": {},
   "outputs": [],
   "source": [
    "CSV_MAP: dict[str, str] = {\n",
    "    \"ada\": \"ada.csv\",\n",
    "    \"babbage\": \"babbage.csv\",\n",
    "    \"curie\": \"curie.csv\",\n",
    "    \"davinci\": \"davinci.csv\",\n",
    "    \"ada_rlhf\": \"text-ada-001.csv\",\n",
    "    \"babbage_rlhf\": \"text-babbage-001.csv\",\n",
    "    \"curie_rlhf\": \"text-curie-001.csv\",\n",
    "    \"davinci_rlhf\": \"text-davinci-001.csv\",\n",
    "    \"opt_125m\": \"opt-125m.csv\",\n",
    "    \"opt_350m\": \"opt-350m.csv\",\n",
    "    \"opt_1_3b\": \"opt-1.3b.csv\",\n",
    "    \"opt_2_7b\": \"opt-2.7b.csv\",\n",
    "}\n",
    "\n",
    "GPT3_SIZES = {\n",
    "    # GPT-3 sizes are based on https://blog.eleuther.ai/gpt3-model-sizes/\n",
    "    \"ada\": 350_000_000,\n",
    "    \"babbage\": 1_300_000_000,\n",
    "    \"curie\": 6_700_000_000,\n",
    "    \"davinci\": 175_000_000_000,\n",
    "}\n",
    "\n",
    "GPT3_RLHF_SIZES = {\n",
    "    \"ada_rlhf\": 350_000_000,\n",
    "    \"babbage_rlhf\": 1_300_000_000,\n",
    "    \"curie_rlhf\": 6_700_000_000,\n",
    "    \"davinci_rlhf\": 175_000_000_000,\n",
    "}\n",
    "\n",
    "OPT_SIZES = {\n",
    "    # opt sizes from their names\n",
    "    \"opt_125m\": 125_000_000,\n",
    "    \"opt_350m\": 350_000_000,\n",
    "    \"opt_1_3b\": 1_300_000_000,\n",
    "    \"opt_2_7b\": 2_700_000_000,\n",
    "}\n",
    "\n",
    "OGPT_SIZES = {\"opt_125m\": 125_000_000} | GPT3_SIZES"
   ]
  },
  {
   "cell_type": "code",
   "execution_count": 8,
   "metadata": {},
   "outputs": [
    {
     "data": {
      "text/plain": [
       "Index(['Q_id', 'answer_index', 'baseline_acc', 'baseline_loss', 'binarized',\n",
       "       'body', 'classes', 'n_classes', 'pred_ada', 'pred_ada_rlhf',\n",
       "       'pred_babbage', 'pred_babbage_rlhf', 'pred_curie', 'pred_curie_rlhf',\n",
       "       'pred_davinci', 'pred_davinci_rlhf', 'pred_opt_125m', 'pred_opt_1_3b',\n",
       "       'pred_opt_2_7b', 'pred_opt_350m', 'prob_ada_0', 'prob_ada_1',\n",
       "       'prob_ada_2', 'prob_ada_3', 'prob_ada_4', 'prob_ada_rlhf_0',\n",
       "       'prob_ada_rlhf_1', 'prob_ada_rlhf_2', 'prob_ada_rlhf_3',\n",
       "       'prob_ada_rlhf_4', 'prob_babbage_0', 'prob_babbage_1', 'prob_babbage_2',\n",
       "       'prob_babbage_3', 'prob_babbage_4', 'prob_babbage_rlhf_0',\n",
       "       'prob_babbage_rlhf_1', 'prob_babbage_rlhf_2', 'prob_babbage_rlhf_3',\n",
       "       'prob_babbage_rlhf_4', 'prob_curie_0', 'prob_curie_1', 'prob_curie_2',\n",
       "       'prob_curie_3', 'prob_curie_4', 'prob_curie_rlhf_0',\n",
       "       'prob_curie_rlhf_1', 'prob_curie_rlhf_2', 'prob_curie_rlhf_3',\n",
       "       'prob_curie_rlhf_4', 'prob_davinci_0', 'prob_davinci_1',\n",
       "       'prob_davinci_2', 'prob_davinci_3', 'prob_davinci_4',\n",
       "       'prob_davinci_rlhf_0', 'prob_davinci_rlhf_1', 'prob_davinci_rlhf_2',\n",
       "       'prob_davinci_rlhf_3', 'prob_davinci_rlhf_4', 'prob_opt_125m_0',\n",
       "       'prob_opt_125m_1', 'prob_opt_125m_2', 'prob_opt_125m_3',\n",
       "       'prob_opt_125m_4', 'prob_opt_1_3b_0', 'prob_opt_1_3b_1',\n",
       "       'prob_opt_1_3b_2', 'prob_opt_1_3b_3', 'prob_opt_1_3b_4',\n",
       "       'prob_opt_2_7b_0', 'prob_opt_2_7b_1', 'prob_opt_2_7b_2',\n",
       "       'prob_opt_2_7b_3', 'prob_opt_2_7b_4', 'prob_opt_350m_0',\n",
       "       'prob_opt_350m_1', 'prob_opt_350m_2', 'prob_opt_350m_3',\n",
       "       'prob_opt_350m_4', 'prompt', 'prompt_in_front', 'source_dataset'],\n",
       "      dtype='object')"
      ]
     },
     "execution_count": 8,
     "metadata": {},
     "output_type": "execute_result"
    }
   ],
   "source": [
    "for model_name, path in CSV_MAP.items():\n",
    "    cur_df = pd.read_csv(\"results/open_myers_briggs2/classification/\" + path)\n",
    "\n",
    "    assert len(df) == len(cur_df)\n",
    "\n",
    "    # Parse probs\n",
    "    probs_mat = np.array([literal_eval(x) for x in cur_df.probs])\n",
    "    for i in range(probs_mat.shape[1]):\n",
    "        df[f\"prob_{model_name}_{i}\"] = probs_mat[:, i]\n",
    "        df[f\"pred_{model_name}\"] = probs_mat.argmax(axis=1)\n",
    "\n",
    "df.columns.sort_values()"
   ]
  },
  {
   "cell_type": "code",
   "execution_count": 44,
   "metadata": {},
   "outputs": [],
   "source": [
    "def get_comparison(prompt: str):\n",
    "    a = prompt.index('Pair: ') + len('Pair: ')\n",
    "    prompt = prompt[a:-len('. Choice:')]\n",
    "    prompt = prompt.replace(\"'\", \"\")\n",
    "    prompt = prompt.replace(' versus ', '; ')\n",
    "    return prompt"
   ]
  },
  {
   "cell_type": "code",
   "execution_count": 138,
   "metadata": {},
   "outputs": [
    {
     "name": "stdout",
     "output_type": "stream",
     "text": [
      "likes action; likes drama: [-0.14  0.18 -0.49  0.21]\n",
      "realistic; imaginative: [ 0.12  0.63 -0.71  0.71]\n",
      "criticism leads to feelings of guilt; criticism leads to feelings of anger: [ 0.16 -0.08  0.56 -0.09]\n",
      "loses track of time; good sense of time: [ 0.19 -0.4   0.32 -0.83]\n",
      "angry; resentful: [-0.21  0.02 -0.   -0.04]\n"
     ]
    }
   ],
   "source": [
    "with open('scoring.txt') as f:\n",
    "    score_lines = [l[:-1] for l in f]\n",
    "    score_lines = [l.replace(\"'\", \"\") for l in score_lines]\n",
    "    score_lines = [l.replace(\"\\\\\", \"\") for l in score_lines]\n",
    "    score_lines = [line.split('\\t') for line in score_lines]\n",
    "\n",
    "\n",
    "def get_score_coeffs(score_list):\n",
    "    # scoring high (i.e. 5) puts you in the given direction. \n",
    "    # IE_score is negative for I, positive for E, and similarly for SN, FT, JP.\n",
    "    # so I, S, F, J get negative, the others get positive.\n",
    "    # ['0.19E', '0.40S', '0.32T', '0.83J'] to [0.19, -0.405, 0.32, -0.83]\n",
    "    letters = [s[-1:] for s in score_list]\n",
    "    numbers = [float(s[:-1]) for s in score_list]\n",
    "    if letters[0] == 'I':\n",
    "        numbers[0] = numbers[0] * -1\n",
    "    if letters[1] == 'S':\n",
    "        numbers[1] = numbers[1] * -1\n",
    "    if letters[2] == 'F':\n",
    "        numbers[2] = numbers[2] * -1\n",
    "    if letters[3] == 'J':\n",
    "        numbers[3] = numbers[3] * -1\n",
    "\n",
    "    return np.array(numbers)\n",
    "\n",
    "\n",
    "SCORE_DICT = {comparison: get_score_coeffs(scores) for [comparison, *scores] in score_lines}\n",
    "for i in list(SCORE_DICT.keys())[0:5]:\n",
    "    print(f'{i}: {SCORE_DICT[i]}')"
   ]
  },
  {
   "cell_type": "code",
   "execution_count": 139,
   "metadata": {},
   "outputs": [],
   "source": [
    "def get_max_scores():\n",
    "    sums = np.array([0., 0., 0., 0.])\n",
    "    for score_coeffs in SCORE_DICT.values():\n",
    "        sums += np.abs(score_coeffs)\n",
    "\n",
    "    return sums * 2\n",
    "    \n",
    "\n",
    "MAX_SCORES = get_max_scores()"
   ]
  },
  {
   "cell_type": "code",
   "execution_count": 140,
   "metadata": {},
   "outputs": [],
   "source": [
    "def score_df(model_df):\n",
    "    scores = np.array([0., 0., 0., 0.])\n",
    "\n",
    "    # 1. generate comparison for each row\n",
    "    # 2. add \n",
    "    for i in range(len(model_df)):\n",
    "        row = model_df.iloc[i]\n",
    "        comparison = get_comparison(row['prompt'])\n",
    "        score_coeffs = SCORE_DICT[comparison]\n",
    "        question_probs = np.array(list(row)[1:])\n",
    "        assert abs(question_probs.sum() - 1) < 0.01, question_probs.sum()\n",
    "        expected_score = (question_probs * np.array([1,2,3,4,5])).sum()\n",
    "        # normalize to zero\n",
    "        normalized_score = expected_score - 3\n",
    "        # add result to each score\n",
    "        scores += normalized_score * score_coeffs\n",
    "\n",
    "    # normalize scores by max possible value\n",
    "    scores = scores / MAX_SCORES\n",
    "    assert np.all(np.abs(scores) <= 1)\n",
    "    return dict(zip(['IE', 'SN', 'FT', 'JP'], scores))\n"
   ]
  },
  {
   "cell_type": "markdown",
   "metadata": {},
   "source": [
    "# Evaluate the models"
   ]
  },
  {
   "cell_type": "code",
   "execution_count": 144,
   "metadata": {},
   "outputs": [
    {
     "name": "stdout",
     "output_type": "stream",
     "text": [
      "model ada: scores: {'IE': -0.06075463966720187, 'SN': -0.27502487732792097, 'FT': -0.1605230694295247, 'JP': -0.3196297181636905}\n",
      "model babbage: scores: {'IE': -0.05136599974028208, 'SN': -0.2351731551726783, 'FT': -0.13823162484941154, 'JP': -0.2786458279770405}\n",
      "model curie: scores: {'IE': -0.05069633698292961, 'SN': -0.22516801441235018, 'FT': -0.1221321961052975, 'JP': -0.2660343600864837}\n",
      "model davinci: scores: {'IE': -0.0519697084554405, 'SN': -0.27297381416508004, 'FT': -0.16564892340563486, 'JP': -0.3132095397157968}\n",
      "model ada_rlhf: scores: {'IE': -0.01592841036722011, 'SN': -0.21849567895572988, 'FT': -0.09652425579381121, 'JP': -0.19859931990159047}\n",
      "model babbage_rlhf: scores: {'IE': -0.0668051520834476, 'SN': -0.29144475902562095, 'FT': -0.1619122443006885, 'JP': -0.34600071944859767}\n",
      "model curie_rlhf: scores: {'IE': -0.03118511985975623, 'SN': -0.19382467408289963, 'FT': -0.10348092897269626, 'JP': -0.22024101720910466}\n",
      "model davinci_rlhf: scores: {'IE': -0.06897041436953631, 'SN': -0.20545548783884535, 'FT': -0.12596354338319687, 'JP': -0.23073435373596066}\n",
      "model opt_125m: scores: {'IE': -0.038578847319584955, 'SN': -0.20519869504741992, 'FT': -0.12241179981331264, 'JP': -0.23748325235322834}\n",
      "model opt_350m: scores: {'IE': -0.04584798178369302, 'SN': -0.21666216904390434, 'FT': -0.1316818591507167, 'JP': -0.25206734269314063}\n",
      "model opt_1_3b: scores: {'IE': -0.054412814828256176, 'SN': -0.27823125358897616, 'FT': -0.165909323643416, 'JP': -0.3144352195766073}\n",
      "model opt_2_7b: scores: {'IE': -0.03421832839495573, 'SN': -0.17244542516487546, 'FT': -0.102795011791013, 'JP': -0.20609809462544273}\n"
     ]
    }
   ],
   "source": [
    "MODEL_SCORES = {}\n",
    "for model_name in CSV_MAP.keys():\n",
    "    columns = ['prompt'] + [f'prob_{model_name}_{i}' for i in range(5)]\n",
    "    model_df = df[columns]\n",
    "    scores = score_df(model_df)\n",
    "    print(f\"model {model_name}: scores: {scores}\")\n",
    "    MODEL_SCORES[model_name] = scores\n"
   ]
  },
  {
   "cell_type": "code",
   "execution_count": null,
   "metadata": {},
   "outputs": [],
   "source": [
    "# Plotting\n",
    "['ada', 'babbage', 'curie', 'davinchi']"
   ]
  },
  {
   "cell_type": "code",
   "execution_count": 159,
   "metadata": {},
   "outputs": [],
   "source": [
    "def gen_plots(\n",
    "    size_dict: dict[str, int],\n",
    "    title: str = \"\",\n",
    "):\n",
    "    models = list(size_dict.keys())\n",
    "    sizes = np.array(list(size_dict.values()))\n",
    "    IE_scores = [MODEL_SCORES[model]['IE'] for model in models]\n",
    "    SN_scores = [MODEL_SCORES[model]['SN'] for model in models]\n",
    "    FT_scores = [MODEL_SCORES[model]['FT'] for model in models]\n",
    "    JP_scores = [MODEL_SCORES[model]['JP'] for model in models]\n",
    "\n",
    "    plt.figure(figsize=(8, 4))\n",
    "    plt.suptitle(title + f\" (n={len(df)})\")\n",
    "    plt.tight_layout()\n",
    "\n",
    "    def common_plot_setup(baseline: float):\n",
    "        plt.axhline(\n",
    "            baseline,\n",
    "            linestyle=\"--\",\n",
    "            color=\"black\",\n",
    "            zorder=-1,\n",
    "            # label=\"random baseline\",\n",
    "        )\n",
    "        plt.xscale(\"log\")\n",
    "        # plt.xlabel(\"Model size\")\n",
    "        plt.xticks(sizes, models)\n",
    "        plt.legend()\n",
    "\n",
    "    plt.plot(sizes, IE_scores, label=\"IE\")\n",
    "    plt.plot(sizes, SN_scores, label=\"SN\")\n",
    "    plt.plot(sizes, FT_scores, label=\"FT\")\n",
    "    plt.plot(sizes, JP_scores, label=\"JP\")\n",
    "    # plt.ylim(-1.02, 1.02)\n",
    "    common_plot_setup(0.0)"
   ]
  },
  {
   "cell_type": "code",
   "execution_count": 160,
   "metadata": {},
   "outputs": [
    {
     "data": {
      "image/png": "[encoded data removed]",
      "text/plain": [
       "<Figure size 576x288 with 1 Axes>"
      ]
     },
     "metadata": {},
     "output_type": "display_data"
    },
    {
     "data": {
      "image/png": "[encoded data removed]",
      "text/plain": [
       "<Figure size 576x288 with 1 Axes>"
      ]
     },
     "metadata": {},
     "output_type": "display_data"
    },
    {
     "data": {
      "image/png": "[encoded data removed]",
      "text/plain": [
       "<Figure size 576x288 with 1 Axes>"
      ]
     },
     "metadata": {},
     "output_type": "display_data"
    }
   ],
   "source": [
    "gen_plots(OPT_SIZES, title=f\"OPT personality trends\")\n",
    "gen_plots(GPT3_SIZES, title=f\"GPT3 personality trends\")\n",
    "gen_plots(GPT3_RLHF_SIZES, title=f\"GPT3 (rlhf) personality trends\")"
   ]
  },
  {
   "cell_type": "code",
   "execution_count": null,
   "metadata": {},
   "outputs": [],
   "source": []
  }
 ],
 "metadata": {
  "kernelspec": {
   "display_name": "Python 3.9.7 ('base')",
   "language": "python",
   "name": "python3"
  },
  "language_info": {
   "codemirror_mode": {
    "name": "ipython",
    "version": 3
   },
   "file_extension": ".py",
   "mimetype": "text/x-python",
   "name": "python",
   "nbconvert_exporter": "python",
   "pygments_lexer": "ipython3",
   "version": "3.9.7"
  },
  "orig_nbformat": 4,
  "vscode": {
   "interpreter": {
    "hash": "5171257a19229003dd5d26a2da83564f8b77e553c7bd58f03ad020368d79a5cf"
   }
  }
 },
 "nbformat": 4,
 "nbformat_minor": 2
}
