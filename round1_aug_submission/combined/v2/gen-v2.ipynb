{
 "cells": [
  {
   "cell_type": "markdown",
   "metadata": {},
   "source": [
    "### Load libraries"
   ]
  },
  {
   "cell_type": "code",
   "execution_count": 1,
   "metadata": {},
   "outputs": [],
   "source": [
    "import pathlib\n",
    "\n",
    "import git.repo\n",
    "import numpy as np\n",
    "import pandas as pd"
   ]
  },
  {
   "cell_type": "markdown",
   "metadata": {},
   "source": [
    "### Define what data to load"
   ]
  },
  {
   "cell_type": "code",
   "execution_count": 2,
   "metadata": {},
   "outputs": [
    {
     "name": "stdout",
     "output_type": "stream",
     "text": [
      "Number of csvs to include: 30\n",
      "Output file: combined_v2.csv\n"
     ]
    }
   ],
   "source": [
    "GIT_ROOT = pathlib.Path(\n",
    "    str(git.repo.Repo(\".\", search_parent_directories=True).working_tree_dir)\n",
    ")\n",
    "\n",
    "CSV_ROOT = GIT_ROOT / \"round1_aug_submission\"\n",
    "CSVS_TO_INCLUDE = (\n",
    "    # Ethan\n",
    "    \"inverse_scaling_ethan/MACH.csv\",\n",
    "    \"inverse_scaling_ethan/NPI.csv\",\n",
    "    \"inverse_scaling_ethan/RSE.csv\",\n",
    "    \"inverse_scaling_ethan/np_MACH.csv\",\n",
    "    \"inverse_scaling_ethan/np_NPI.csv\",\n",
    "    \"inverse_scaling_ethan/np_RSE.csv\",\n",
    "    #\n",
    "    # Jiahai\n",
    "    \"inverse_scaling_jiahai/dass_formatted.csv\",\n",
    "    \"inverse_scaling_jiahai/tma_formatted.csv\",\n",
    "    \"inverse_scaling_jiahai/np_dass_formatted.csv\",\n",
    "    \"inverse_scaling_jiahai/np_tma_formatted.csv\",\n",
    "    #\n",
    "    # Simon\n",
    "    \"inverse_scaling_simon/beck_hopelessness.csv\",\n",
    "    \"inverse_scaling_simon/depression_scenarios.csv\",\n",
    "    \"inverse_scaling_simon/geriatric_depression_scale.csv\",\n",
    "    \"inverse_scaling_simon/levenson_selfreport_psychopathy.csv\",\n",
    "    \"inverse_scaling_simon/mmpi.csv\",\n",
    "    \"inverse_scaling_simon/phq9.csv\",\n",
    "    \"inverse_scaling_simon/np_beck_hopelessness.csv\",\n",
    "    \"inverse_scaling_simon/np_geriatric_depression_scale.csv\",\n",
    "    \"inverse_scaling_simon/np_levenson_selfreport_psychopathy.csv\",\n",
    "    \"inverse_scaling_simon/np_mmpi.csv\",\n",
    "    \"inverse_scaling_simon/np_phq9.csv\",\n",
    "    #\n",
    "    # Tony\n",
    "    \"inverse_scaling_tony/ECR/final.csv\",\n",
    "    #\n",
    "    # Saptarashmi\n",
    "    \"InverseScaling_Saptarashmi/CFCS/final.csv\",\n",
    "    \"InverseScaling_Saptarashmi/HBDS-data/final.csv\",\n",
    "    \"InverseScaling_Saptarashmi/HSNS+DD/final.csv\",\n",
    "    \"InverseScaling_Saptarashmi/SD3/final.csv\",\n",
    "    \"InverseScaling_Saptarashmi/CFCS/np_final.csv\",\n",
    "    \"InverseScaling_Saptarashmi/HBDS-data/np_final.csv\",\n",
    "    \"InverseScaling_Saptarashmi/HSNS+DD/final_np.csv\",\n",
    "    \"InverseScaling_Saptarashmi/SD3/np_final.csv\",\n",
    ")\n",
    "\n",
    "# Writes in same directory as this notebook\n",
    "OUT_FILE = \"combined_v2.csv\"\n",
    "\n",
    "print(\"Number of csvs to include:\", len(CSVS_TO_INCLUDE))\n",
    "print(\"Output file:\", OUT_FILE)"
   ]
  },
  {
   "cell_type": "markdown",
   "metadata": {},
   "source": [
    "### Load data"
   ]
  },
  {
   "cell_type": "code",
   "execution_count": 3,
   "metadata": {},
   "outputs": [],
   "source": [
    "def canonicalize_df(df: pd.DataFrame) -> pd.DataFrame:\n",
    "    # Drop unnamed initial column (jiahai)\n",
    "    if \"Unnamed: 0\" in df.columns:\n",
    "        df = df.drop(\"Unnamed: 0\", axis=\"columns\")\n",
    "\n",
    "    # Rename front -> prompt_in_front (simon)\n",
    "    if \"front\" in df.columns:\n",
    "        df = df.rename(columns={\"front\": \"prompt_in_front\"})\n",
    "\n",
    "    # Rename answer_idx -> answer_index\n",
    "    if \"answer_idx\" in df.columns:\n",
    "        df = df.rename(columns={\"answer_idx\": \"answer_index\"})\n",
    "\n",
    "    # Rename 'binarized-v2' -> binarized_v2\n",
    "    if \"binarized-v2\" in df.columns:\n",
    "        df = df.rename(columns={\"binarized-v2\": \"binarized_v2\"})\n",
    "\n",
    "    # Make body a boolean field\n",
    "    if df.body.dtype == np.object_:\n",
    "        df[\"body\"] = (df.body != \"NB\")\n",
    "\n",
    "    return df"
   ]
  },
  {
   "cell_type": "code",
   "execution_count": 4,
   "metadata": {},
   "outputs": [
    {
     "data": {
      "text/plain": [
       "Index(['prompt', 'classes', 'answer_index', 'source_dataset', 'Q_id', 'body',\n",
       "       'prompt_in_front', 'binarized', 'no_prompt', 'binarized_v2',\n",
       "       'half_prompt', 'pov', 'editted'],\n",
       "      dtype='object')"
      ]
     },
     "execution_count": 4,
     "metadata": {},
     "output_type": "execute_result"
    }
   ],
   "source": [
    "raw_dfs = [pd.read_csv(CSV_ROOT / x) for x in CSVS_TO_INCLUDE]\n",
    "dfs = [canonicalize_df(raw_df) for raw_df in raw_dfs]\n",
    "df = pd.concat(dfs)\n",
    "df.columns"
   ]
  },
  {
   "cell_type": "markdown",
   "metadata": {},
   "source": [
    "### Check data"
   ]
  },
  {
   "cell_type": "code",
   "execution_count": 5,
   "metadata": {},
   "outputs": [
    {
     "data": {
      "text/plain": [
       "array([\"[' 1', ' 2', ' 3', ' 4', ' 5']\", \"[' 1', ' 2']\",\n",
       "       \"[' A', ' B', ' C', ' D']\", \"[' A', ' B']\", \"[' B', ' A']\",\n",
       "       \"[' True', ' False']\", \"[' Yes', ' No']\",\n",
       "       \"[' A', ' B', ' C', ' D', ' E', ' F', ' G']\", \"[' Yes',' No']\",\n",
       "       \"[' No', ' Yes']\", \"[' 1', ' 3', ' 5']\"], dtype=object)"
      ]
     },
     "execution_count": 5,
     "metadata": {},
     "output_type": "execute_result"
    }
   ],
   "source": [
    "df.classes.unique()"
   ]
  },
  {
   "cell_type": "code",
   "execution_count": 6,
   "metadata": {},
   "outputs": [
    {
     "data": {
      "text/plain": [
       "array([0, 4, 1, 3, 6, 2])"
      ]
     },
     "execution_count": 6,
     "metadata": {},
     "output_type": "execute_result"
    }
   ],
   "source": [
    "df.answer_index.unique()"
   ]
  },
  {
   "cell_type": "code",
   "execution_count": 7,
   "metadata": {},
   "outputs": [
    {
     "data": {
      "text/plain": [
       "array(['MACH', 'NPI', 'RSE', 'dass', 'tma', 'beck_hopelessness',\n",
       "       'depression_scenarios', 'geriatric_depression',\n",
       "       'levenson_selfreport_psychopathy', 'mmpi', 'phq9', 'ECR', 'cfcs',\n",
       "       'hbds', 'hsns+dd', 'sd3'], dtype=object)"
      ]
     },
     "execution_count": 7,
     "metadata": {},
     "output_type": "execute_result"
    }
   ],
   "source": [
    "df.source_dataset.unique()"
   ]
  },
  {
   "cell_type": "code",
   "execution_count": 8,
   "metadata": {},
   "outputs": [
    {
     "name": "stdout",
     "output_type": "stream",
     "text": [
      "[0 1]\n"
     ]
    },
    {
     "data": {
      "text/plain": [
       "array(['dass', 'depression_scenarios', 'mmpi', 'phq9'], dtype=object)"
      ]
     },
     "execution_count": 8,
     "metadata": {},
     "output_type": "execute_result"
    }
   ],
   "source": [
    "print(df.body.unique())\n",
    "df.source_dataset[df.body == 1].unique()"
   ]
  },
  {
   "cell_type": "code",
   "execution_count": 9,
   "metadata": {},
   "outputs": [
    {
     "data": {
      "text/plain": [
       "array([1, 0])"
      ]
     },
     "execution_count": 9,
     "metadata": {},
     "output_type": "execute_result"
    }
   ],
   "source": [
    "df.prompt_in_front.unique()"
   ]
  },
  {
   "cell_type": "code",
   "execution_count": 10,
   "metadata": {},
   "outputs": [
    {
     "data": {
      "text/plain": [
       "array([0, 1])"
      ]
     },
     "execution_count": 10,
     "metadata": {},
     "output_type": "execute_result"
    }
   ],
   "source": [
    "df.binarized.unique()"
   ]
  },
  {
   "cell_type": "code",
   "execution_count": 11,
   "metadata": {},
   "outputs": [
    {
     "name": "stdout",
     "output_type": "stream",
     "text": [
      "[nan  0.  1.]\n"
     ]
    },
    {
     "data": {
      "text/plain": [
       "array(['levenson_selfreport_psychopathy'], dtype=object)"
      ]
     },
     "execution_count": 11,
     "metadata": {},
     "output_type": "execute_result"
    }
   ],
   "source": [
    "print(df.binarized_v2.unique())\n",
    "df.source_dataset[~df.binarized_v2.isna()].unique()"
   ]
  },
  {
   "cell_type": "markdown",
   "metadata": {},
   "source": [
    "### Export data"
   ]
  },
  {
   "cell_type": "code",
   "execution_count": 12,
   "metadata": {},
   "outputs": [
    {
     "data": {
      "text/plain": [
       "2648"
      ]
     },
     "execution_count": 12,
     "metadata": {},
     "output_type": "execute_result"
    }
   ],
   "source": [
    "len(df)"
   ]
  },
  {
   "cell_type": "code",
   "execution_count": 13,
   "metadata": {},
   "outputs": [],
   "source": [
    "df.to_csv(OUT_FILE)"
   ]
  }
 ],
 "metadata": {
  "kernelspec": {
   "display_name": "Python 3.9.12 ('inverse-scaling')",
   "language": "python",
   "name": "python3"
  },
  "language_info": {
   "codemirror_mode": {
    "name": "ipython",
    "version": 3
   },
   "file_extension": ".py",
   "mimetype": "text/x-python",
   "name": "python",
   "nbconvert_exporter": "python",
   "pygments_lexer": "ipython3",
   "version": "3.9.12"
  },
  "orig_nbformat": 4,
  "vscode": {
   "interpreter": {
    "hash": "f6700999d81053ee009abdff5f8983854f6ce20985af400d492e6404f3791336"
   }
  }
 },
 "nbformat": 4,
 "nbformat_minor": 2
}
