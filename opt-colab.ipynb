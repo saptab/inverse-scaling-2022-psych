{
  "cells": [
    {
      "cell_type": "markdown",
      "metadata": {
        "id": "view-in-github",
        "colab_type": "text"
      },
      "source": [
        "<a href=\"https://colab.research.google.com/github/saptab/inverse-scaling-2022-psych/blob/main/opt-colab.ipynb\" target=\"_parent\"><img src=\"https://colab.research.google.com/assets/colab-badge.svg\" alt=\"Open In Colab\"/></a>"
      ]
    },
    {
      "cell_type": "code",
      "source": [
        "!rm -r inverse-scaling-eval-pipeline/"
      ],
      "metadata": {
        "id": "4gNsp7pZ9Xxg"
      },
      "execution_count": null,
      "outputs": []
    },
    {
      "cell_type": "markdown",
      "metadata": {
        "id": "eICzyz7Q0dj9"
      },
      "source": [
        "# Set up\n",
        "Run the cell below to install all of the necessary packages\n"
      ]
    },
    {
      "cell_type": "code",
      "execution_count": null,
      "metadata": {
        "id": "fUTWkkLW4nPy"
      },
      "outputs": [],
      "source": [
        "#@title Set up script { display-mode: \"form\" }\n",
        "#@markdown Run this cell to install the necessary packages (may take a few minutes)\n",
        "%%shell\n",
        "cd /content\n",
        "pip uninstall -y eval-pipeline\n",
        "rm -rf public-colab\n",
        "git clone -b public-colab --single-branch https://github.com/ed1d1a8d/inverse-scaling-eval-pipeline.git &> /dev/null\n",
        "pip install git+https://github.com/ed1d1a8d/inverse-scaling-eval-pipeline.git@public-colab\n",
        "\n",
        "# somehow these commands fix matplotlib to draw in the notebook\n",
        "# https://stackoverflow.com/questions/64862818/cannot-import-name-png-from-matplotlib\n",
        "%matplotlib inline\n",
        "python -m pip uninstall matplotlib -y\n",
        "pip install matplotlib==3.1.3 &> /dev/null\n"
      ]
    },
    {
      "cell_type": "markdown",
      "metadata": {
        "id": "sLB2maYcM6t-"
      },
      "source": [
        "# Running"
      ]
    },
    {
      "cell_type": "markdown",
      "metadata": {
        "id": "zoaYc0nsfOIC"
      },
      "source": [
        "# An OPT Run\n",
        "Choose from the evaluation metrics `classification`, `sequence_prob`, `logodds`, and `absolute_logodds`.\n",
        "\n",
        "Descriptions of the evaluation metrics can be found in [this section of the README](https://github.com/inverse-scaling/prize).\n",
        "\n",
        "To upload a file to the colab, click `Files` (the folder icon) on the sidebar on the left.\n",
        "Then click `Upload to session storage` (the file with an arrow icon) and choose your `.csv` from your computer.\n",
        "\n",
        "If you have Colab Pro or Colab Pro+, you can try running some larger OPT models in addition (select a High RAM runtime if possible).\n",
        "Add `\"opt-6.7b\"` and `\"opt-13b\"` to the `model_names` list.\n",
        "Unfortunately, the 30B and larger models are infeasible to run in a Colab environment.\n",
        "\n",
        "(For those familiar with large language models: if you would like to run EleutherAI models, you can change the model_names to use models from `gpt-neo-125M`, `gpt-neo-1.3B`, `gpt-neo-2.7B`, and `gpt-j-6B`.)"
      ]
    },
    {
      "cell_type": "code",
      "execution_count": null,
      "metadata": {
        "id": "SpIfwfNjfMm8"
      },
      "outputs": [],
      "source": [
        "#@title Running OPT models and plotting the results { display-mode: \"form\" }\n",
        "evaluation_metric = \"classification\" #@param [\"classification\", \"sequence_prob\", \"logodds\", \"absolute_logodds\", \"classification_acc\"]\n",
        "file_name = \"beck_hopelessness.csv\" #@param {\"type\": \"string\"}\n",
        "model_names = [\"opt-125m\", \"opt-350m\", \"opt-1.3b\", \"opt-2.7b\"] #@param {\"type\": \"raw\"}\n",
        "model_names_string = ' '.join(model_names)\n",
        "\n",
        "#@markdown Once you've specified an evaluation metric and a file name, run this cell\n",
        "%run /content/inverse-scaling-eval-pipeline/eval_pipeline/main.py \\\n",
        "--dataset-path \"/content/$file_name\" \\\n",
        "--exp-dir /content/results \\\n",
        "--models $model_names_string \\\n",
        "--task-type $evaluation_metric \\\n",
        "--use-gpu\n",
        "\n",
        "# we have to use %run because executing with !python does not load the python code in the colab shell\n",
        "%run /content/inverse-scaling-eval-pipeline/eval_pipeline/plot_loss.py \\\n",
        "  --task-type $evaluation_metric \\\n",
        "  /content/results"
      ]
    }
  ],
  "metadata": {
    "accelerator": "GPU",
    "colab": {
      "background_execution": "on",
      "collapsed_sections": [],
      "machine_shape": "hm",
      "name": "Inverse Scaling OPT Colab.ipynb",
      "provenance": [],
      "include_colab_link": true
    },
    "kernelspec": {
      "display_name": "Python 3",
      "name": "python3"
    },
    "language_info": {
      "name": "python"
    },
    "gpuClass": "standard"
  },
  "nbformat": 4,
  "nbformat_minor": 0
}